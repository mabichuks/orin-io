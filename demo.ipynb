{
 "cells": [
  {
   "cell_type": "code",
   "execution_count": 1,
   "id": "4c8418eb",
   "metadata": {},
   "outputs": [
    {
     "name": "stdout",
     "output_type": "stream",
     "text": [
      "\n",
      "You are a cybersecurity expert analyzing an ICS (Industrial Control Systems) security advisory.\n",
      "Your task is to map this advisory to the most relevant MITRE ATT&CK techniques.\n",
      "\n",
      "IMPORTANT: You have been provided with pre-filtered candidate techniques that are most likely relevant.\n",
      "Focus your analysis on these candidates, but you may also suggest if none are truly appropriate.\n",
      "\n",
      "Advisory Content:\n",
      "Sample advisory content for testing\n",
      "\n",
      "Candidate MITRE ATT&CK Techniques (pre-filtered for relevance):\n",
      "sample techniques to analyze\n",
      "\n",
      "Instructions:\n",
      "1. Analyze the advisory for attack vectors, vulnerabilities, and potential impacts\n",
      "2. Map to 1-3 most relevant techniques from the candidates provided\n",
      "\n",
      "Only respond with a valid JSON object in this exact format and nothig else\n",
      "{\n",
      "  \"type\": \"object\",\n",
      "  \"properties\": {\n",
      "    \"mapped_techniques\": {\n",
      "      \"type\": \"array\",\n",
      "      \"description\": \"List of MITRE ATT&CK technique IDs that apply the MOST to the advisory. This could be zero, one or more techniques but should not exceed three.\",\n",
      "      \"maxItems\": 3,\n",
      "      \"items\": {\n",
      "        \"type\": \"string\",\n",
      "        \"description\": \"MITRE ATT&CK technique ID, e.g., T1234\"\n",
      "      }\n",
      "    }\n",
      "  }\n",
      "}\n",
      "\n"
     ]
    }
   ],
   "source": [
    "from constants import REFINED_MITRE_PROMPT_TEMPLATE\n",
    "result = REFINED_MITRE_PROMPT_TEMPLATE.format(\n",
    "    advisory_content=\"Sample advisory content for testing\",\n",
    "    techniques_to_analyze=\"sample techniques to analyze\")\n",
    "print(result)"
   ]
  }
 ],
 "metadata": {
  "kernelspec": {
   "display_name": ".venv",
   "language": "python",
   "name": "python3"
  },
  "language_info": {
   "codemirror_mode": {
    "name": "ipython",
    "version": 3
   },
   "file_extension": ".py",
   "mimetype": "text/x-python",
   "name": "python",
   "nbconvert_exporter": "python",
   "pygments_lexer": "ipython3",
   "version": "3.12.2"
  }
 },
 "nbformat": 4,
 "nbformat_minor": 5
}
