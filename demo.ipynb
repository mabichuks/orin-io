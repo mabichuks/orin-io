{
 "cells": [
  {
   "cell_type": "code",
   "execution_count": 1,
   "id": "4c8418eb",
   "metadata": {},
   "outputs": [
    {
     "name": "stdout",
     "output_type": "stream",
     "text": [
      "\n",
      "You are a cybersecurity expert analyzing an ICS (Industrial Control Systems) security advisory.\n",
      "Your task is to map this advisory to the most relevant MITRE ATT&CK techniques.\n",
      "\n",
      "IMPORTANT: You have been provided with pre-filtered candidate techniques that are most likely relevant.\n",
      "Focus your analysis on these candidates, but you may also suggest if none are truly appropriate.\n",
      "\n",
      "Advisory Content:\n",
      "Sample advisory content for testing\n",
      "\n",
      "Candidate MITRE ATT&CK Techniques (pre-filtered for relevance):\n",
      "sample techniques to analyze\n",
      "\n",
      "Instructions:\n",
      "1. Analyze the advisory for attack vectors, vulnerabilities, and potential impacts\n",
      "2. Map to 1-3 most relevant techniques from the candidates provided\n",
      "\n",
      "Only respond with a valid JSON object in this exact format and nothig else\n",
      "{\n",
      "  \"type\": \"object\",\n",
      "  \"properties\": {\n",
      "    \"mapped_techniques\": {\n",
      "      \"type\": \"array\",\n",
      "      \"description\": \"List of MITRE ATT&CK technique IDs that apply the MOST to the advisory. This could be zero, one or more techniques but should not exceed three.\",\n",
      "      \"maxItems\": 3,\n",
      "      \"items\": {\n",
      "        \"type\": \"string\",\n",
      "        \"description\": \"MITRE ATT&CK technique ID, e.g., T1234\"\n",
      "      }\n",
      "    }\n",
      "  }\n",
      "}\n",
      "\n"
     ]
    }
   ],
   "source": [
    "from constants import REFINED_MITRE_PROMPT_TEMPLATE\n",
    "result = REFINED_MITRE_PROMPT_TEMPLATE.format(\n",
    "    advisory_content=\"Sample advisory content for testing\",\n",
    "    techniques_to_analyze=\"sample techniques to analyze\")\n",
    "print(result)"
   ]
  },
  {
   "cell_type": "code",
   "execution_count": 27,
   "id": "d14c659a",
   "metadata": {},
   "outputs": [],
   "source": [
    "from constants import ENHANCED_RAG_TEMPLATE\n"
   ]
  },
  {
   "cell_type": "code",
   "execution_count": 28,
   "id": "b4c45801",
   "metadata": {},
   "outputs": [
    {
     "name": "stdout",
     "output_type": "stream",
     "text": [
      "Loading MITRE ATT&CK techniques from file...\n",
      "Loading existing index...\n"
     ]
    }
   ],
   "source": [
    "from agent import ThreatIntelligenceAgent\n",
    "from indexmanager import IndexManager\n",
    "\n",
    "index_manager = IndexManager(\"ai-cti\")\n",
    "index = index_manager.load_existing_index()\n",
    "agent = ThreatIntelligenceAgent(index, index_manager)\n"
   ]
  },
  {
   "cell_type": "code",
   "execution_count": 14,
   "id": "5386a29a",
   "metadata": {},
   "outputs": [],
   "source": [
    "agent_setup = agent.setup_agent()\n"
   ]
  },
  {
   "cell_type": "code",
   "execution_count": 15,
   "id": "cdd1ccb6",
   "metadata": {},
   "outputs": [
    {
     "ename": "KeyError",
     "evalue": "'context_str'",
     "output_type": "error",
     "traceback": [
      "\u001b[31m---------------------------------------------------------------------------\u001b[39m",
      "\u001b[31mKeyError\u001b[39m                                  Traceback (most recent call last)",
      "\u001b[36mCell\u001b[39m\u001b[36m \u001b[39m\u001b[32mIn[15]\u001b[39m\u001b[32m, line 1\u001b[39m\n\u001b[32m----> \u001b[39m\u001b[32m1\u001b[39m \u001b[43magent\u001b[49m\u001b[43m.\u001b[49m\u001b[43mchat\u001b[49m\u001b[43m(\u001b[49m\u001b[33;43m\"\u001b[39;49m\u001b[33;43mwhat is the most recent advisory\u001b[39;49m\u001b[33;43m\"\u001b[39;49m\u001b[43m)\u001b[49m\n",
      "\u001b[36mFile \u001b[39m\u001b[32mc:\\Users\\People\\Desktop\\school docs\\Final Project\\ai-cti\\agent.py:63\u001b[39m, in \u001b[36mThreatIntelligenceAgent.chat\u001b[39m\u001b[34m(self, query)\u001b[39m\n\u001b[32m     62\u001b[39m \u001b[38;5;28;01mdef\u001b[39;00m\u001b[38;5;250m \u001b[39m\u001b[34mchat\u001b[39m(\u001b[38;5;28mself\u001b[39m, query: \u001b[38;5;28mstr\u001b[39m):\n\u001b[32m---> \u001b[39m\u001b[32m63\u001b[39m     \u001b[38;5;28;01mreturn\u001b[39;00m \u001b[38;5;28mself\u001b[39m.agent.chat(\u001b[43mENHANCED_RAG_TEMPLATE\u001b[49m\u001b[43m.\u001b[49m\u001b[43mformat\u001b[49m\u001b[43m(\u001b[49m\u001b[43mquery\u001b[49m\u001b[43m=\u001b[49m\u001b[43mquery\u001b[49m\u001b[43m)\u001b[49m)\n",
      "\u001b[31mKeyError\u001b[39m: 'context_str'"
     ]
    }
   ],
   "source": [
    "agent.chat(\"what is the most recent advisory\")"
   ]
  },
  {
   "cell_type": "code",
   "execution_count": 29,
   "id": "05e480df",
   "metadata": {},
   "outputs": [],
   "source": [
    "from llama_index.core.tools import QueryEngineTool, ToolMetadata\n",
    "from llama_index.core.prompts import PromptTemplate\n",
    "from llama_index.core.response_synthesizers import ResponseMode\n",
    "from constants import llm_model\n",
    "\n",
    "\n",
    "\n",
    "qa_prompt = PromptTemplate(ENHANCED_RAG_TEMPLATE)\n",
    "\n",
    "query_engine = index.as_query_engine(\n",
    "    llm_model= llm_model, similarity_top_k=5, text_qa_template=qa_prompt\n",
    ")        \n",
    "querytool=  QueryEngineTool.from_defaults(\n",
    "    query_engine= query_engine,\n",
    "    name=\"advisory_search\",\n",
    "    description=\"Search and query ICS security advisories from CISA. \"\n",
    "                    \"Use this to find information about specific vulnerabilities, \"\n",
    "                    \"security issues, MITRE ATT&CK mappings, or threat intelligence.\"\n",
    ")"
   ]
  },
  {
   "cell_type": "code",
   "execution_count": 30,
   "id": "7aaa7bcf",
   "metadata": {},
   "outputs": [],
   "source": [
    "from llama_index.core.agent import ReActAgent\n",
    "\n",
    "tools = [\n",
    "    querytool\n",
    "    # advisory_fetch_tool,\n",
    "    # mitre_mapping_tool\n",
    "]\n",
    "\n",
    "# Create ReAct agent\n",
    "re_act_agent = ReActAgent.from_tools(\n",
    "    tools=tools,\n",
    "    llm=llm_model,\n",
    "    verbose=True,\n",
    "    max_iterations=10\n",
    ")"
   ]
  },
  {
   "cell_type": "code",
   "execution_count": null,
   "id": "226389a4",
   "metadata": {},
   "outputs": [
    {
     "name": "stdout",
     "output_type": "stream",
     "text": [
      "> Running step 5edb6705-b6cb-4516-b01c-63b29a273095. Step input: which vulnerability has the highest severity\n",
      "\u001b[1;3;38;5;200mThought: The current language of the user is English. I need to use a tool to help me answer the question about the vulnerability with the highest severity.\n",
      "Action: advisory_search\n",
      "Action Input: {'input': 'highest severity vulnerability'}\n",
      "\u001b[0m\u001b[1;3;34mObservation: **Summary**:  \n",
      "The advisories detail several vulnerabilities affecting various systems, with the highest severity being CVE-2023-28531, which has a CVSS v3 base score of 9.8. This vulnerability involves missing encryption of sensitive data in OpenSSH, potentially allowing unauthorized access to smartcard keys.\n",
      "\n",
      "**Technical Details**:  \n",
      "1. **CVE-2023-28531**: This vulnerability affects OpenSSH versions before 9.3, where ssh-add adds smartcard keys to ssh-agent without intended per-hop destination constraints. This could lead to unauthorized access to sensitive data.\n",
      "2. **CVE-2024-6387**: A race condition in OpenSSH's server (sshd) could allow an unauthenticated, remote attacker to trigger unsafe signal handling, leading to potential system compromise.\n",
      "3. **CVE-2024-2961**: The iconv() function in GNU C Library versions 2.39 and older may cause an out-of-bounds write, potentially crashing applications or overwriting memory.\n",
      "4. **CVE-2024-6119**: A type confusion issue in applications performing certificate name checks could lead to denial-of-service attacks.\n",
      "\n",
      "**MITRE Mapping**:  \n",
      "- **T0890**: Exploitation for Privilege Escalation\n",
      "- **T0814**: Exploitation for Defense Evasion\n",
      "- **T0866**: Exploitation for Credential Access\n",
      "\n",
      "**Recommendations**:  \n",
      "1. **For CVE-2023-28531**:  \n",
      "   - Upgrade to OpenSSH version 9.3 or later to ensure smartcard keys are added with proper constraints.\n",
      "   - Implement network segmentation to limit access to systems using OpenSSH.\n",
      "2. **For CVE-2024-6387**:  \n",
      "   - Apply patches or updates provided by OpenSSH to address the race condition.\n",
      "   - Monitor SSH logs for unusual authentication failures that may indicate exploitation attempts.\n",
      "3. **For CVE-2024-2961**:  \n",
      "   - Update to the latest version of GNU C Library to mitigate the out-of-bounds write vulnerability.\n",
      "   - Employ application whitelisting to prevent unauthorized applications from executing.\n",
      "4. **For CVE-2024-6119**:  \n",
      "   - Ensure applications performing certificate checks are updated to handle name checks securely.\n",
      "   - Use intrusion detection systems to monitor for abnormal application terminations.\n",
      "\n",
      "**References**:  \n",
      "- Advisory ID: [ICSA-25-162-05](https://www.cisa.gov/news-events/ics-advisories/icsa-25-162-05)\n",
      "- CVE-2023-28531: [CVE Details](https://www.cve.org/CVERecord?id=CVE-2023-28531)\n",
      "- CVE-2024-6387: [CVE Details](https://www.cve.org/CVERecord?id=CVE-2024-6387)\n",
      "- CVE-2024-2961: [CVE Details](https://www.cve.org/CVERecord?id=CVE-2024-2961)\n",
      "- CVE-2024-6119: [CVE Details](https://www.cve.org/CVERecord?id=CVE-2024-6119)\n",
      "\u001b[0m> Running step f14cf5cf-9a70-487f-b62c-45dba26a58a9. Step input: None\n",
      "\u001b[1;3;38;5;200mThought: I can answer without using any more tools. I'll use the user's language to answer.\n",
      "Answer: The vulnerability with the highest severity is CVE-2023-28531, which has a CVSS v3 base score of 9.8. This vulnerability involves missing encryption of sensitive data in OpenSSH, potentially allowing unauthorized access to smartcard keys.\n",
      "\u001b[0mThe vulnerability with the highest severity is CVE-2023-28531, which has a CVSS v3 base score of 9.8. This vulnerability involves missing encryption of sensitive data in OpenSSH, potentially allowing unauthorized access to smartcard keys.\n"
     ]
    }
   ],
   "source": [
    "re_act_answer = re_act_agent.chat(\"which vulnerability has the highest severity. ensure your final response contains the CVE ID links\")\n",
    "\n",
    "print(re_act_answer.response)"
   ]
  }
 ],
 "metadata": {
  "kernelspec": {
   "display_name": ".venv",
   "language": "python",
   "name": "python3"
  },
  "language_info": {
   "codemirror_mode": {
    "name": "ipython",
    "version": 3
   },
   "file_extension": ".py",
   "mimetype": "text/x-python",
   "name": "python",
   "nbconvert_exporter": "python",
   "pygments_lexer": "ipython3",
   "version": "3.12.2"
  }
 },
 "nbformat": 4,
 "nbformat_minor": 5
}
